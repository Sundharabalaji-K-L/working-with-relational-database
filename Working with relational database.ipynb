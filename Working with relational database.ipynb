{
  "cells":[
    {
      "cell_type":"code",
      "source":[
        "from sqlalchemy import create_engine\n",
        "import pandas as pd"
      ],
      "execution_count":1,
      "outputs":[
        
      ],
      "metadata":{
        
      }
    },
    {
      "cell_type":"markdown",
      "source":[
        "# **Creating database engine**"
      ],
      "attachments":{
        
      },
      "metadata":{
        
      }
    },
    {
      "cell_type":"code",
      "source":[
        "engine=create_engine('sqlite:\/\/\/Northwind.sqlite')\n",
        "con=engine.connect()"
      ],
      "execution_count":2,
      "outputs":[
        
      ],
      "metadata":{
        
      }
    },
    {
      "cell_type":"markdown",
      "source":[
        "# **Getting Table names from the database**"
      ],
      "attachments":{
        
      },
      "metadata":{
        
      }
    },
    {
      "cell_type":"code",
      "source":[
        "table_names=engine.table_names()"
      ],
      "execution_count":3,
      "outputs":[
        {
          "name":"stderr",
          "text":[
            "<ipython-input-3-6eccda078834>:1: SADeprecationWarning: The Engine.table_names() method is deprecated and will be removed in a future release.  Please refer to Inspector.get_table_names(). (deprecated since: 1.4)\n",
            "  table_names=engine.table_names()\n"
          ],
          "output_type":"stream"
        }
      ],
      "metadata":{
        
      }
    },
    {
      "cell_type":"code",
      "source":[
        "print(table_names)"
      ],
      "execution_count":4,
      "outputs":[
        {
          "name":"stdout",
          "text":[
            "['Category', 'Customer', 'CustomerCustomerDemo', 'CustomerDemographic', 'Employee', 'EmployeeTerritory', 'Order', 'OrderDetail', 'Product', 'Region', 'Shipper', 'Supplier', 'Territory']\n"
          ],
          "output_type":"stream"
        }
      ],
      "metadata":{
        
      }
    },
    {
      "cell_type":"markdown",
      "source":[
        "# Qureying **database**"
      ],
      "attachments":{
        
      },
      "metadata":{
        
      }
    },
    {
      "cell_type":"code",
      "source":[
        "rs=con.execute('SELECT * FROM OrderDetail')\n",
        "df=pd.DataFrame(rs.fetchall())\n",
        "df.columns=rs.keys()\n",
        "con.close()"
      ],
      "execution_count":5,
      "outputs":[
        
      ],
      "metadata":{
        
      }
    },
    {
      "cell_type":"code",
      "source":[
        "df"
      ],
      "execution_count":6,
      "outputs":[
        {
          "data":{
            "text\/html":[
              "<div>\n",
              "<style scoped>\n",
              "    .dataframe tbody tr th:only-of-type {\n",
              "        vertical-align: middle;\n",
              "    }\n",
              "\n",
              "    .dataframe tbody tr th {\n",
              "        vertical-align: top;\n",
              "    }\n",
              "\n",
              "    .dataframe thead th {\n",
              "        text-align: right;\n",
              "    }\n",
              "<\/style>\n",
              "<table border=\"1\" class=\"dataframe\">\n",
              "  <thead>\n",
              "    <tr style=\"text-align: right;\">\n",
              "      <th><\/th>\n",
              "      <th>Id<\/th>\n",
              "      <th>OrderId<\/th>\n",
              "      <th>ProductId<\/th>\n",
              "      <th>UnitPrice<\/th>\n",
              "      <th>Quantity<\/th>\n",
              "      <th>Discount<\/th>\n",
              "    <\/tr>\n",
              "  <\/thead>\n",
              "  <tbody>\n",
              "    <tr>\n",
              "      <th>0<\/th>\n",
              "      <td>10248\/11<\/td>\n",
              "      <td>10248<\/td>\n",
              "      <td>11<\/td>\n",
              "      <td>14.00<\/td>\n",
              "      <td>12<\/td>\n",
              "      <td>0.00<\/td>\n",
              "    <\/tr>\n",
              "    <tr>\n",
              "      <th>1<\/th>\n",
              "      <td>10248\/42<\/td>\n",
              "      <td>10248<\/td>\n",
              "      <td>42<\/td>\n",
              "      <td>9.80<\/td>\n",
              "      <td>10<\/td>\n",
              "      <td>0.00<\/td>\n",
              "    <\/tr>\n",
              "    <tr>\n",
              "      <th>2<\/th>\n",
              "      <td>10248\/72<\/td>\n",
              "      <td>10248<\/td>\n",
              "      <td>72<\/td>\n",
              "      <td>34.80<\/td>\n",
              "      <td>5<\/td>\n",
              "      <td>0.00<\/td>\n",
              "    <\/tr>\n",
              "    <tr>\n",
              "      <th>3<\/th>\n",
              "      <td>10249\/14<\/td>\n",
              "      <td>10249<\/td>\n",
              "      <td>14<\/td>\n",
              "      <td>18.60<\/td>\n",
              "      <td>9<\/td>\n",
              "      <td>0.00<\/td>\n",
              "    <\/tr>\n",
              "    <tr>\n",
              "      <th>4<\/th>\n",
              "      <td>10249\/51<\/td>\n",
              "      <td>10249<\/td>\n",
              "      <td>51<\/td>\n",
              "      <td>42.40<\/td>\n",
              "      <td>40<\/td>\n",
              "      <td>0.00<\/td>\n",
              "    <\/tr>\n",
              "    <tr>\n",
              "      <th>...<\/th>\n",
              "      <td>...<\/td>\n",
              "      <td>...<\/td>\n",
              "      <td>...<\/td>\n",
              "      <td>...<\/td>\n",
              "      <td>...<\/td>\n",
              "      <td>...<\/td>\n",
              "    <\/tr>\n",
              "    <tr>\n",
              "      <th>2150<\/th>\n",
              "      <td>11077\/64<\/td>\n",
              "      <td>11077<\/td>\n",
              "      <td>64<\/td>\n",
              "      <td>33.25<\/td>\n",
              "      <td>2<\/td>\n",
              "      <td>0.03<\/td>\n",
              "    <\/tr>\n",
              "    <tr>\n",
              "      <th>2151<\/th>\n",
              "      <td>11077\/66<\/td>\n",
              "      <td>11077<\/td>\n",
              "      <td>66<\/td>\n",
              "      <td>17.00<\/td>\n",
              "      <td>1<\/td>\n",
              "      <td>0.00<\/td>\n",
              "    <\/tr>\n",
              "    <tr>\n",
              "      <th>2152<\/th>\n",
              "      <td>11077\/73<\/td>\n",
              "      <td>11077<\/td>\n",
              "      <td>73<\/td>\n",
              "      <td>15.00<\/td>\n",
              "      <td>2<\/td>\n",
              "      <td>0.01<\/td>\n",
              "    <\/tr>\n",
              "    <tr>\n",
              "      <th>2153<\/th>\n",
              "      <td>11077\/75<\/td>\n",
              "      <td>11077<\/td>\n",
              "      <td>75<\/td>\n",
              "      <td>7.75<\/td>\n",
              "      <td>4<\/td>\n",
              "      <td>0.00<\/td>\n",
              "    <\/tr>\n",
              "    <tr>\n",
              "      <th>2154<\/th>\n",
              "      <td>11077\/77<\/td>\n",
              "      <td>11077<\/td>\n",
              "      <td>77<\/td>\n",
              "      <td>13.00<\/td>\n",
              "      <td>2<\/td>\n",
              "      <td>0.00<\/td>\n",
              "    <\/tr>\n",
              "  <\/tbody>\n",
              "<\/table>\n",
              "<p>2155 rows × 6 columns<\/p>\n",
              "<\/div>"
            ]
          },
          "metadata":{
            
          },
          "output_type":"display_data"
        }
      ],
      "metadata":{
        
      }
    },
    {
      "cell_type":"markdown",
      "source":[
        "# **Selcting particular rows and columns in database**"
      ],
      "attachments":{
        
      },
      "metadata":{
        
      }
    },
    {
      "cell_type":"code",
      "source":[
        "with engine.connect() as con:\n",
        "    rs=con.execute('SELECT LastName,Title FROM Employee')\n",
        "    df=pd.DataFrame(rs.fetchmany(size=3))\n",
        "    df.columns=rs.keys()"
      ],
      "execution_count":7,
      "outputs":[
        
      ],
      "metadata":{
        
      }
    },
    {
      "cell_type":"code",
      "source":[
        "df.head()"
      ],
      "execution_count":8,
      "outputs":[
        {
          "data":{
            "text\/html":[
              "<div>\n",
              "<style scoped>\n",
              "    .dataframe tbody tr th:only-of-type {\n",
              "        vertical-align: middle;\n",
              "    }\n",
              "\n",
              "    .dataframe tbody tr th {\n",
              "        vertical-align: top;\n",
              "    }\n",
              "\n",
              "    .dataframe thead th {\n",
              "        text-align: right;\n",
              "    }\n",
              "<\/style>\n",
              "<table border=\"1\" class=\"dataframe\">\n",
              "  <thead>\n",
              "    <tr style=\"text-align: right;\">\n",
              "      <th><\/th>\n",
              "      <th>LastName<\/th>\n",
              "      <th>Title<\/th>\n",
              "    <\/tr>\n",
              "  <\/thead>\n",
              "  <tbody>\n",
              "    <tr>\n",
              "      <th>0<\/th>\n",
              "      <td>Davolio<\/td>\n",
              "      <td>Sales Representative<\/td>\n",
              "    <\/tr>\n",
              "    <tr>\n",
              "      <th>1<\/th>\n",
              "      <td>Fuller<\/td>\n",
              "      <td>Vice President, Sales<\/td>\n",
              "    <\/tr>\n",
              "    <tr>\n",
              "      <th>2<\/th>\n",
              "      <td>Leverling<\/td>\n",
              "      <td>Sales Representative<\/td>\n",
              "    <\/tr>\n",
              "  <\/tbody>\n",
              "<\/table>\n",
              "<\/div>"
            ]
          },
          "metadata":{
            
          },
          "output_type":"display_data"
        }
      ],
      "metadata":{
        
      }
    },
    {
      "cell_type":"markdown",
      "source":[
        "# **Filtering Databae record using SQL'S WHERE**"
      ],
      "attachments":{
        
      },
      "metadata":{
        
      }
    },
    {
      "cell_type":"code",
      "source":[
        "engine=create_engine('sqlite:\/\/\/Chinook.sqlite')"
      ],
      "execution_count":9,
      "outputs":[
        
      ],
      "metadata":{
        
      }
    },
    {
      "cell_type":"code",
      "source":[
        "with engine.connect() as con:\n",
        "    rs=con.execute('SELECT * FROM Employee WHERE EmployeeId>=6')\n",
        "    df=pd.DataFrame(rs.fetchall())\n",
        "    df.columns=rs.keys()"
      ],
      "execution_count":10,
      "outputs":[
        
      ],
      "metadata":{
        
      }
    },
    {
      "cell_type":"code",
      "source":[
        "df.head()"
      ],
      "execution_count":11,
      "outputs":[
        {
          "data":{
            "text\/html":[
              "<div>\n",
              "<style scoped>\n",
              "    .dataframe tbody tr th:only-of-type {\n",
              "        vertical-align: middle;\n",
              "    }\n",
              "\n",
              "    .dataframe tbody tr th {\n",
              "        vertical-align: top;\n",
              "    }\n",
              "\n",
              "    .dataframe thead th {\n",
              "        text-align: right;\n",
              "    }\n",
              "<\/style>\n",
              "<table border=\"1\" class=\"dataframe\">\n",
              "  <thead>\n",
              "    <tr style=\"text-align: right;\">\n",
              "      <th><\/th>\n",
              "      <th>EmployeeId<\/th>\n",
              "      <th>LastName<\/th>\n",
              "      <th>FirstName<\/th>\n",
              "      <th>Title<\/th>\n",
              "      <th>ReportsTo<\/th>\n",
              "      <th>BirthDate<\/th>\n",
              "      <th>HireDate<\/th>\n",
              "      <th>Address<\/th>\n",
              "      <th>City<\/th>\n",
              "      <th>State<\/th>\n",
              "      <th>Country<\/th>\n",
              "      <th>PostalCode<\/th>\n",
              "      <th>Phone<\/th>\n",
              "      <th>Fax<\/th>\n",
              "      <th>Email<\/th>\n",
              "    <\/tr>\n",
              "  <\/thead>\n",
              "  <tbody>\n",
              "    <tr>\n",
              "      <th>0<\/th>\n",
              "      <td>6<\/td>\n",
              "      <td>Mitchell<\/td>\n",
              "      <td>Michael<\/td>\n",
              "      <td>IT Manager<\/td>\n",
              "      <td>1<\/td>\n",
              "      <td>1973-07-01 00:00:00<\/td>\n",
              "      <td>2003-10-17 00:00:00<\/td>\n",
              "      <td>5827 Bowness Road NW<\/td>\n",
              "      <td>Calgary<\/td>\n",
              "      <td>AB<\/td>\n",
              "      <td>Canada<\/td>\n",
              "      <td>T3B 0C5<\/td>\n",
              "      <td>+1 (403) 246-9887<\/td>\n",
              "      <td>+1 (403) 246-9899<\/td>\n",
              "      <td>michael@chinookcorp.com<\/td>\n",
              "    <\/tr>\n",
              "    <tr>\n",
              "      <th>1<\/th>\n",
              "      <td>7<\/td>\n",
              "      <td>King<\/td>\n",
              "      <td>Robert<\/td>\n",
              "      <td>IT Staff<\/td>\n",
              "      <td>6<\/td>\n",
              "      <td>1970-05-29 00:00:00<\/td>\n",
              "      <td>2004-01-02 00:00:00<\/td>\n",
              "      <td>590 Columbia Boulevard West<\/td>\n",
              "      <td>Lethbridge<\/td>\n",
              "      <td>AB<\/td>\n",
              "      <td>Canada<\/td>\n",
              "      <td>T1K 5N8<\/td>\n",
              "      <td>+1 (403) 456-9986<\/td>\n",
              "      <td>+1 (403) 456-8485<\/td>\n",
              "      <td>robert@chinookcorp.com<\/td>\n",
              "    <\/tr>\n",
              "    <tr>\n",
              "      <th>2<\/th>\n",
              "      <td>8<\/td>\n",
              "      <td>Callahan<\/td>\n",
              "      <td>Laura<\/td>\n",
              "      <td>IT Staff<\/td>\n",
              "      <td>6<\/td>\n",
              "      <td>1968-01-09 00:00:00<\/td>\n",
              "      <td>2004-03-04 00:00:00<\/td>\n",
              "      <td>923 7 ST NW<\/td>\n",
              "      <td>Lethbridge<\/td>\n",
              "      <td>AB<\/td>\n",
              "      <td>Canada<\/td>\n",
              "      <td>T1H 1Y8<\/td>\n",
              "      <td>+1 (403) 467-3351<\/td>\n",
              "      <td>+1 (403) 467-8772<\/td>\n",
              "      <td>laura@chinookcorp.com<\/td>\n",
              "    <\/tr>\n",
              "  <\/tbody>\n",
              "<\/table>\n",
              "<\/div>"
            ]
          },
          "metadata":{
            
          },
          "output_type":"display_data"
        }
      ],
      "metadata":{
        
      }
    },
    {
      "cell_type":"markdown",
      "source":[
        "# **Ordering SQL record using ODER BY**"
      ],
      "attachments":{
        
      },
      "metadata":{
        
      }
    },
    {
      "cell_type":"code",
      "source":[
        "engine=create_engine('sqlite:\/\/\/Chinook.sqlite')"
      ],
      "execution_count":12,
      "outputs":[
        
      ],
      "metadata":{
        
      }
    },
    {
      "cell_type":"code",
      "source":[
        "with engine.connect() as con:\n",
        "    rs=con.execute('SELECT * FROM Employee ORDER BY BirthDate')\n",
        "    df=pd.DataFrame(rs.fetchall())\n",
        "    df.columns=rs.keys()"
      ],
      "execution_count":13,
      "outputs":[
        
      ],
      "metadata":{
        
      }
    },
    {
      "cell_type":"code",
      "source":[
        "\n",
        "df.head()"
      ],
      "execution_count":14,
      "outputs":[
        {
          "data":{
            "text\/html":[
              "<div>\n",
              "<style scoped>\n",
              "    .dataframe tbody tr th:only-of-type {\n",
              "        vertical-align: middle;\n",
              "    }\n",
              "\n",
              "    .dataframe tbody tr th {\n",
              "        vertical-align: top;\n",
              "    }\n",
              "\n",
              "    .dataframe thead th {\n",
              "        text-align: right;\n",
              "    }\n",
              "<\/style>\n",
              "<table border=\"1\" class=\"dataframe\">\n",
              "  <thead>\n",
              "    <tr style=\"text-align: right;\">\n",
              "      <th><\/th>\n",
              "      <th>EmployeeId<\/th>\n",
              "      <th>LastName<\/th>\n",
              "      <th>FirstName<\/th>\n",
              "      <th>Title<\/th>\n",
              "      <th>ReportsTo<\/th>\n",
              "      <th>BirthDate<\/th>\n",
              "      <th>HireDate<\/th>\n",
              "      <th>Address<\/th>\n",
              "      <th>City<\/th>\n",
              "      <th>State<\/th>\n",
              "      <th>Country<\/th>\n",
              "      <th>PostalCode<\/th>\n",
              "      <th>Phone<\/th>\n",
              "      <th>Fax<\/th>\n",
              "      <th>Email<\/th>\n",
              "    <\/tr>\n",
              "  <\/thead>\n",
              "  <tbody>\n",
              "    <tr>\n",
              "      <th>0<\/th>\n",
              "      <td>4<\/td>\n",
              "      <td>Park<\/td>\n",
              "      <td>Margaret<\/td>\n",
              "      <td>Sales Support Agent<\/td>\n",
              "      <td>2.0<\/td>\n",
              "      <td>1947-09-19 00:00:00<\/td>\n",
              "      <td>2003-05-03 00:00:00<\/td>\n",
              "      <td>683 10 Street SW<\/td>\n",
              "      <td>Calgary<\/td>\n",
              "      <td>AB<\/td>\n",
              "      <td>Canada<\/td>\n",
              "      <td>T2P 5G3<\/td>\n",
              "      <td>+1 (403) 263-4423<\/td>\n",
              "      <td>+1 (403) 263-4289<\/td>\n",
              "      <td>margaret@chinookcorp.com<\/td>\n",
              "    <\/tr>\n",
              "    <tr>\n",
              "      <th>1<\/th>\n",
              "      <td>2<\/td>\n",
              "      <td>Edwards<\/td>\n",
              "      <td>Nancy<\/td>\n",
              "      <td>Sales Manager<\/td>\n",
              "      <td>1.0<\/td>\n",
              "      <td>1958-12-08 00:00:00<\/td>\n",
              "      <td>2002-05-01 00:00:00<\/td>\n",
              "      <td>825 8 Ave SW<\/td>\n",
              "      <td>Calgary<\/td>\n",
              "      <td>AB<\/td>\n",
              "      <td>Canada<\/td>\n",
              "      <td>T2P 2T3<\/td>\n",
              "      <td>+1 (403) 262-3443<\/td>\n",
              "      <td>+1 (403) 262-3322<\/td>\n",
              "      <td>nancy@chinookcorp.com<\/td>\n",
              "    <\/tr>\n",
              "    <tr>\n",
              "      <th>2<\/th>\n",
              "      <td>1<\/td>\n",
              "      <td>Adams<\/td>\n",
              "      <td>Andrew<\/td>\n",
              "      <td>General Manager<\/td>\n",
              "      <td>NaN<\/td>\n",
              "      <td>1962-02-18 00:00:00<\/td>\n",
              "      <td>2002-08-14 00:00:00<\/td>\n",
              "      <td>11120 Jasper Ave NW<\/td>\n",
              "      <td>Edmonton<\/td>\n",
              "      <td>AB<\/td>\n",
              "      <td>Canada<\/td>\n",
              "      <td>T5K 2N1<\/td>\n",
              "      <td>+1 (780) 428-9482<\/td>\n",
              "      <td>+1 (780) 428-3457<\/td>\n",
              "      <td>andrew@chinookcorp.com<\/td>\n",
              "    <\/tr>\n",
              "    <tr>\n",
              "      <th>3<\/th>\n",
              "      <td>5<\/td>\n",
              "      <td>Johnson<\/td>\n",
              "      <td>Steve<\/td>\n",
              "      <td>Sales Support Agent<\/td>\n",
              "      <td>2.0<\/td>\n",
              "      <td>1965-03-03 00:00:00<\/td>\n",
              "      <td>2003-10-17 00:00:00<\/td>\n",
              "      <td>7727B 41 Ave<\/td>\n",
              "      <td>Calgary<\/td>\n",
              "      <td>AB<\/td>\n",
              "      <td>Canada<\/td>\n",
              "      <td>T3B 1Y7<\/td>\n",
              "      <td>1 (780) 836-9987<\/td>\n",
              "      <td>1 (780) 836-9543<\/td>\n",
              "      <td>steve@chinookcorp.com<\/td>\n",
              "    <\/tr>\n",
              "    <tr>\n",
              "      <th>4<\/th>\n",
              "      <td>8<\/td>\n",
              "      <td>Callahan<\/td>\n",
              "      <td>Laura<\/td>\n",
              "      <td>IT Staff<\/td>\n",
              "      <td>6.0<\/td>\n",
              "      <td>1968-01-09 00:00:00<\/td>\n",
              "      <td>2004-03-04 00:00:00<\/td>\n",
              "      <td>923 7 ST NW<\/td>\n",
              "      <td>Lethbridge<\/td>\n",
              "      <td>AB<\/td>\n",
              "      <td>Canada<\/td>\n",
              "      <td>T1H 1Y8<\/td>\n",
              "      <td>+1 (403) 467-3351<\/td>\n",
              "      <td>+1 (403) 467-8772<\/td>\n",
              "      <td>laura@chinookcorp.com<\/td>\n",
              "    <\/tr>\n",
              "  <\/tbody>\n",
              "<\/table>\n",
              "<\/div>"
            ]
          },
          "metadata":{
            
          },
          "output_type":"display_data"
        }
      ],
      "metadata":{
        
      }
    },
    {
      "cell_type":"markdown",
      "source":[
        "# **Querying database directly using pandas**"
      ],
      "attachments":{
        
      },
      "metadata":{
        
      }
    },
    {
      "cell_type":"code",
      "source":[
        "from sqlalchemy import create_engine"
      ],
      "execution_count":15,
      "outputs":[
        
      ],
      "metadata":{
        
      }
    },
    {
      "cell_type":"code",
      "source":[
        "engine=create_engine('sqlite:\/\/\/Chinook.sqlite')"
      ],
      "execution_count":16,
      "outputs":[
        
      ],
      "metadata":{
        
      }
    },
    {
      "cell_type":"code",
      "source":[
        "df=pd.read_sql_query('SELECT * FROM Album',engine)"
      ],
      "execution_count":17,
      "outputs":[
        
      ],
      "metadata":{
        
      }
    },
    {
      "cell_type":"code",
      "source":[
        "df"
      ],
      "execution_count":18,
      "outputs":[
        {
          "data":{
            "text\/html":[
              "<div>\n",
              "<style scoped>\n",
              "    .dataframe tbody tr th:only-of-type {\n",
              "        vertical-align: middle;\n",
              "    }\n",
              "\n",
              "    .dataframe tbody tr th {\n",
              "        vertical-align: top;\n",
              "    }\n",
              "\n",
              "    .dataframe thead th {\n",
              "        text-align: right;\n",
              "    }\n",
              "<\/style>\n",
              "<table border=\"1\" class=\"dataframe\">\n",
              "  <thead>\n",
              "    <tr style=\"text-align: right;\">\n",
              "      <th><\/th>\n",
              "      <th>AlbumId<\/th>\n",
              "      <th>Title<\/th>\n",
              "      <th>ArtistId<\/th>\n",
              "    <\/tr>\n",
              "  <\/thead>\n",
              "  <tbody>\n",
              "    <tr>\n",
              "      <th>0<\/th>\n",
              "      <td>1<\/td>\n",
              "      <td>For Those About To Rock We Salute You<\/td>\n",
              "      <td>1<\/td>\n",
              "    <\/tr>\n",
              "    <tr>\n",
              "      <th>1<\/th>\n",
              "      <td>2<\/td>\n",
              "      <td>Balls to the Wall<\/td>\n",
              "      <td>2<\/td>\n",
              "    <\/tr>\n",
              "    <tr>\n",
              "      <th>2<\/th>\n",
              "      <td>3<\/td>\n",
              "      <td>Restless and Wild<\/td>\n",
              "      <td>2<\/td>\n",
              "    <\/tr>\n",
              "    <tr>\n",
              "      <th>3<\/th>\n",
              "      <td>4<\/td>\n",
              "      <td>Let There Be Rock<\/td>\n",
              "      <td>1<\/td>\n",
              "    <\/tr>\n",
              "    <tr>\n",
              "      <th>4<\/th>\n",
              "      <td>5<\/td>\n",
              "      <td>Big Ones<\/td>\n",
              "      <td>3<\/td>\n",
              "    <\/tr>\n",
              "    <tr>\n",
              "      <th>...<\/th>\n",
              "      <td>...<\/td>\n",
              "      <td>...<\/td>\n",
              "      <td>...<\/td>\n",
              "    <\/tr>\n",
              "    <tr>\n",
              "      <th>342<\/th>\n",
              "      <td>343<\/td>\n",
              "      <td>Respighi:Pines of Rome<\/td>\n",
              "      <td>226<\/td>\n",
              "    <\/tr>\n",
              "    <tr>\n",
              "      <th>343<\/th>\n",
              "      <td>344<\/td>\n",
              "      <td>Schubert: The Late String Quartets &amp; String Qu...<\/td>\n",
              "      <td>272<\/td>\n",
              "    <\/tr>\n",
              "    <tr>\n",
              "      <th>344<\/th>\n",
              "      <td>345<\/td>\n",
              "      <td>Monteverdi: L'Orfeo<\/td>\n",
              "      <td>273<\/td>\n",
              "    <\/tr>\n",
              "    <tr>\n",
              "      <th>345<\/th>\n",
              "      <td>346<\/td>\n",
              "      <td>Mozart: Chamber Music<\/td>\n",
              "      <td>274<\/td>\n",
              "    <\/tr>\n",
              "    <tr>\n",
              "      <th>346<\/th>\n",
              "      <td>347<\/td>\n",
              "      <td>Koyaanisqatsi (Soundtrack from the Motion Pict...<\/td>\n",
              "      <td>275<\/td>\n",
              "    <\/tr>\n",
              "  <\/tbody>\n",
              "<\/table>\n",
              "<p>347 rows × 3 columns<\/p>\n",
              "<\/div>"
            ]
          },
          "metadata":{
            
          },
          "output_type":"display_data"
        }
      ],
      "metadata":{
        
      }
    },
    {
      "cell_type":"code",
      "source":[
        "with engine.connect() as con:\n",
        "    rs=con.execute('SELECT * FROM Album')\n",
        "    df1=pd.DataFrame(rs.fetchall())\n",
        "    df.columns=rs.keys()"
      ],
      "execution_count":19,
      "outputs":[
        
      ],
      "metadata":{
        
      }
    },
    {
      "cell_type":"code",
      "source":[
        "print(df.equals(df))"
      ],
      "execution_count":20,
      "outputs":[
        {
          "name":"stdout",
          "text":[
            "True\n"
          ],
          "output_type":"stream"
        }
      ],
      "metadata":{
        
      }
    },
    {
      "cell_type":"code",
      "source":[
        "df=pd.read_sql_query('SELECT * FROM Employee WHERE EmployeeId>=6 ORDER BY BirthDate',engine)"
      ],
      "execution_count":21,
      "outputs":[
        
      ],
      "metadata":{
        
      }
    },
    {
      "cell_type":"code",
      "source":[
        "df"
      ],
      "execution_count":23,
      "outputs":[
        {
          "data":{
            "text\/html":[
              "<div>\n",
              "<style scoped>\n",
              "    .dataframe tbody tr th:only-of-type {\n",
              "        vertical-align: middle;\n",
              "    }\n",
              "\n",
              "    .dataframe tbody tr th {\n",
              "        vertical-align: top;\n",
              "    }\n",
              "\n",
              "    .dataframe thead th {\n",
              "        text-align: right;\n",
              "    }\n",
              "<\/style>\n",
              "<table border=\"1\" class=\"dataframe\">\n",
              "  <thead>\n",
              "    <tr style=\"text-align: right;\">\n",
              "      <th><\/th>\n",
              "      <th>EmployeeId<\/th>\n",
              "      <th>LastName<\/th>\n",
              "      <th>FirstName<\/th>\n",
              "      <th>Title<\/th>\n",
              "      <th>ReportsTo<\/th>\n",
              "      <th>BirthDate<\/th>\n",
              "      <th>HireDate<\/th>\n",
              "      <th>Address<\/th>\n",
              "      <th>City<\/th>\n",
              "      <th>State<\/th>\n",
              "      <th>Country<\/th>\n",
              "      <th>PostalCode<\/th>\n",
              "      <th>Phone<\/th>\n",
              "      <th>Fax<\/th>\n",
              "      <th>Email<\/th>\n",
              "    <\/tr>\n",
              "  <\/thead>\n",
              "  <tbody>\n",
              "    <tr>\n",
              "      <th>0<\/th>\n",
              "      <td>8<\/td>\n",
              "      <td>Callahan<\/td>\n",
              "      <td>Laura<\/td>\n",
              "      <td>IT Staff<\/td>\n",
              "      <td>6<\/td>\n",
              "      <td>1968-01-09 00:00:00<\/td>\n",
              "      <td>2004-03-04 00:00:00<\/td>\n",
              "      <td>923 7 ST NW<\/td>\n",
              "      <td>Lethbridge<\/td>\n",
              "      <td>AB<\/td>\n",
              "      <td>Canada<\/td>\n",
              "      <td>T1H 1Y8<\/td>\n",
              "      <td>+1 (403) 467-3351<\/td>\n",
              "      <td>+1 (403) 467-8772<\/td>\n",
              "      <td>laura@chinookcorp.com<\/td>\n",
              "    <\/tr>\n",
              "    <tr>\n",
              "      <th>1<\/th>\n",
              "      <td>7<\/td>\n",
              "      <td>King<\/td>\n",
              "      <td>Robert<\/td>\n",
              "      <td>IT Staff<\/td>\n",
              "      <td>6<\/td>\n",
              "      <td>1970-05-29 00:00:00<\/td>\n",
              "      <td>2004-01-02 00:00:00<\/td>\n",
              "      <td>590 Columbia Boulevard West<\/td>\n",
              "      <td>Lethbridge<\/td>\n",
              "      <td>AB<\/td>\n",
              "      <td>Canada<\/td>\n",
              "      <td>T1K 5N8<\/td>\n",
              "      <td>+1 (403) 456-9986<\/td>\n",
              "      <td>+1 (403) 456-8485<\/td>\n",
              "      <td>robert@chinookcorp.com<\/td>\n",
              "    <\/tr>\n",
              "    <tr>\n",
              "      <th>2<\/th>\n",
              "      <td>6<\/td>\n",
              "      <td>Mitchell<\/td>\n",
              "      <td>Michael<\/td>\n",
              "      <td>IT Manager<\/td>\n",
              "      <td>1<\/td>\n",
              "      <td>1973-07-01 00:00:00<\/td>\n",
              "      <td>2003-10-17 00:00:00<\/td>\n",
              "      <td>5827 Bowness Road NW<\/td>\n",
              "      <td>Calgary<\/td>\n",
              "      <td>AB<\/td>\n",
              "      <td>Canada<\/td>\n",
              "      <td>T3B 0C5<\/td>\n",
              "      <td>+1 (403) 246-9887<\/td>\n",
              "      <td>+1 (403) 246-9899<\/td>\n",
              "      <td>michael@chinookcorp.com<\/td>\n",
              "    <\/tr>\n",
              "  <\/tbody>\n",
              "<\/table>\n",
              "<\/div>"
            ]
          },
          "metadata":{
            
          },
          "output_type":"display_data"
        }
      ],
      "metadata":{
        
      }
    },
    {
      "cell_type":"markdown",
      "source":[
        "## **Inner join**"
      ],
      "attachments":{
        
      },
      "metadata":{
        
      }
    },
    {
      "cell_type":"code",
      "source":[
        "from sqlalchemy import create_engine\n",
        "import pandas as pd"
      ],
      "execution_count":34,
      "outputs":[
        
      ],
      "metadata":{
        
      }
    },
    {
      "cell_type":"code",
      "source":[
        "engine=create_engine(\"sqlite:\/\/\/Chinook.sqlite\")"
      ],
      "execution_count":42,
      "outputs":[
        
      ],
      "metadata":{
        
      }
    },
    {
      "cell_type":"code",
      "source":[
        "names=engine.table_names()"
      ],
      "execution_count":43,
      "outputs":[
        {
          "name":"stderr",
          "text":[
            "<ipython-input-43-eb961990ef62>:1: SADeprecationWarning: The Engine.table_names() method is deprecated and will be removed in a future release.  Please refer to Inspector.get_table_names(). (deprecated since: 1.4)\n",
            "  names=engine.table_names()\n"
          ],
          "output_type":"stream"
        }
      ],
      "metadata":{
        
      }
    },
    {
      "cell_type":"code",
      "source":[
        "print(names)"
      ],
      "execution_count":44,
      "outputs":[
        {
          "name":"stdout",
          "text":[
            "['Album', 'Artist', 'Customer', 'Employee', 'Genre', 'Invoice', 'InvoiceLine', 'MediaType', 'Playlist', 'PlaylistTrack', 'Track']\n"
          ],
          "output_type":"stream"
        }
      ],
      "metadata":{
        
      }
    },
    {
      "cell_type":"code",
      "source":[
        "with engine.connect() as con:\n",
        "    rs=con.execute(\"SELECT * FROM Album\")\n",
        "    df1=pd.DataFrame(rs.fetchall())\n",
        "    df1.columns=rs.keys()\n",
        "    rs=con.execute('SELECT * FROM Artist')\n",
        "    df2=pd.DataFrame(rs.fetchall())\n",
        "    df2.columns=rs.keys()"
      ],
      "execution_count":56,
      "outputs":[
        
      ],
      "metadata":{
        
      }
    },
    {
      "cell_type":"code",
      "source":[
        "df1"
      ],
      "execution_count":57,
      "outputs":[
        {
          "data":{
            "text\/html":[
              "<div>\n",
              "<style scoped>\n",
              "    .dataframe tbody tr th:only-of-type {\n",
              "        vertical-align: middle;\n",
              "    }\n",
              "\n",
              "    .dataframe tbody tr th {\n",
              "        vertical-align: top;\n",
              "    }\n",
              "\n",
              "    .dataframe thead th {\n",
              "        text-align: right;\n",
              "    }\n",
              "<\/style>\n",
              "<table border=\"1\" class=\"dataframe\">\n",
              "  <thead>\n",
              "    <tr style=\"text-align: right;\">\n",
              "      <th><\/th>\n",
              "      <th>AlbumId<\/th>\n",
              "      <th>Title<\/th>\n",
              "      <th>ArtistId<\/th>\n",
              "    <\/tr>\n",
              "  <\/thead>\n",
              "  <tbody>\n",
              "    <tr>\n",
              "      <th>0<\/th>\n",
              "      <td>1<\/td>\n",
              "      <td>For Those About To Rock We Salute You<\/td>\n",
              "      <td>1<\/td>\n",
              "    <\/tr>\n",
              "    <tr>\n",
              "      <th>1<\/th>\n",
              "      <td>2<\/td>\n",
              "      <td>Balls to the Wall<\/td>\n",
              "      <td>2<\/td>\n",
              "    <\/tr>\n",
              "    <tr>\n",
              "      <th>2<\/th>\n",
              "      <td>3<\/td>\n",
              "      <td>Restless and Wild<\/td>\n",
              "      <td>2<\/td>\n",
              "    <\/tr>\n",
              "    <tr>\n",
              "      <th>3<\/th>\n",
              "      <td>4<\/td>\n",
              "      <td>Let There Be Rock<\/td>\n",
              "      <td>1<\/td>\n",
              "    <\/tr>\n",
              "    <tr>\n",
              "      <th>4<\/th>\n",
              "      <td>5<\/td>\n",
              "      <td>Big Ones<\/td>\n",
              "      <td>3<\/td>\n",
              "    <\/tr>\n",
              "    <tr>\n",
              "      <th>...<\/th>\n",
              "      <td>...<\/td>\n",
              "      <td>...<\/td>\n",
              "      <td>...<\/td>\n",
              "    <\/tr>\n",
              "    <tr>\n",
              "      <th>342<\/th>\n",
              "      <td>343<\/td>\n",
              "      <td>Respighi:Pines of Rome<\/td>\n",
              "      <td>226<\/td>\n",
              "    <\/tr>\n",
              "    <tr>\n",
              "      <th>343<\/th>\n",
              "      <td>344<\/td>\n",
              "      <td>Schubert: The Late String Quartets &amp; String Qu...<\/td>\n",
              "      <td>272<\/td>\n",
              "    <\/tr>\n",
              "    <tr>\n",
              "      <th>344<\/th>\n",
              "      <td>345<\/td>\n",
              "      <td>Monteverdi: L'Orfeo<\/td>\n",
              "      <td>273<\/td>\n",
              "    <\/tr>\n",
              "    <tr>\n",
              "      <th>345<\/th>\n",
              "      <td>346<\/td>\n",
              "      <td>Mozart: Chamber Music<\/td>\n",
              "      <td>274<\/td>\n",
              "    <\/tr>\n",
              "    <tr>\n",
              "      <th>346<\/th>\n",
              "      <td>347<\/td>\n",
              "      <td>Koyaanisqatsi (Soundtrack from the Motion Pict...<\/td>\n",
              "      <td>275<\/td>\n",
              "    <\/tr>\n",
              "  <\/tbody>\n",
              "<\/table>\n",
              "<p>347 rows × 3 columns<\/p>\n",
              "<\/div>"
            ]
          },
          "metadata":{
            
          },
          "output_type":"display_data"
        }
      ],
      "metadata":{
        
      }
    },
    {
      "cell_type":"code",
      "source":[
        "df2"
      ],
      "execution_count":59,
      "outputs":[
        {
          "data":{
            "text\/html":[
              "<div>\n",
              "<style scoped>\n",
              "    .dataframe tbody tr th:only-of-type {\n",
              "        vertical-align: middle;\n",
              "    }\n",
              "\n",
              "    .dataframe tbody tr th {\n",
              "        vertical-align: top;\n",
              "    }\n",
              "\n",
              "    .dataframe thead th {\n",
              "        text-align: right;\n",
              "    }\n",
              "<\/style>\n",
              "<table border=\"1\" class=\"dataframe\">\n",
              "  <thead>\n",
              "    <tr style=\"text-align: right;\">\n",
              "      <th><\/th>\n",
              "      <th>ArtistId<\/th>\n",
              "      <th>Name<\/th>\n",
              "    <\/tr>\n",
              "  <\/thead>\n",
              "  <tbody>\n",
              "    <tr>\n",
              "      <th>0<\/th>\n",
              "      <td>1<\/td>\n",
              "      <td>AC\/DC<\/td>\n",
              "    <\/tr>\n",
              "    <tr>\n",
              "      <th>1<\/th>\n",
              "      <td>2<\/td>\n",
              "      <td>Accept<\/td>\n",
              "    <\/tr>\n",
              "    <tr>\n",
              "      <th>2<\/th>\n",
              "      <td>3<\/td>\n",
              "      <td>Aerosmith<\/td>\n",
              "    <\/tr>\n",
              "    <tr>\n",
              "      <th>3<\/th>\n",
              "      <td>4<\/td>\n",
              "      <td>Alanis Morissette<\/td>\n",
              "    <\/tr>\n",
              "    <tr>\n",
              "      <th>4<\/th>\n",
              "      <td>5<\/td>\n",
              "      <td>Alice In Chains<\/td>\n",
              "    <\/tr>\n",
              "    <tr>\n",
              "      <th>...<\/th>\n",
              "      <td>...<\/td>\n",
              "      <td>...<\/td>\n",
              "    <\/tr>\n",
              "    <tr>\n",
              "      <th>270<\/th>\n",
              "      <td>271<\/td>\n",
              "      <td>Mela Tenenbaum, Pro Musica Prague &amp; Richard Kapp<\/td>\n",
              "    <\/tr>\n",
              "    <tr>\n",
              "      <th>271<\/th>\n",
              "      <td>272<\/td>\n",
              "      <td>Emerson String Quartet<\/td>\n",
              "    <\/tr>\n",
              "    <tr>\n",
              "      <th>272<\/th>\n",
              "      <td>273<\/td>\n",
              "      <td>C. Monteverdi, Nigel Rogers - Chiaroscuro; Lon...<\/td>\n",
              "    <\/tr>\n",
              "    <tr>\n",
              "      <th>273<\/th>\n",
              "      <td>274<\/td>\n",
              "      <td>Nash Ensemble<\/td>\n",
              "    <\/tr>\n",
              "    <tr>\n",
              "      <th>274<\/th>\n",
              "      <td>275<\/td>\n",
              "      <td>Philip Glass Ensemble<\/td>\n",
              "    <\/tr>\n",
              "  <\/tbody>\n",
              "<\/table>\n",
              "<p>275 rows × 2 columns<\/p>\n",
              "<\/div>"
            ]
          },
          "metadata":{
            
          },
          "output_type":"display_data"
        }
      ],
      "metadata":{
        
      }
    },
    {
      "cell_type":"code",
      "source":[
        "with engine.connect() as con:\n",
        "    rs = con.execute(\"SELECT Title, Name FROM Album INNER JOIN Artist on Album.ArtistID = Artist.ArtistID\")\n",
        "    df = pd.DataFrame(rs.fetchall())\n",
        "    df.columns = rs.keys()"
      ],
      "execution_count":74,
      "outputs":[
        
      ],
      "metadata":{
        
      }
    },
    {
      "cell_type":"code",
      "source":[
        "df"
      ],
      "execution_count":75,
      "outputs":[
        {
          "data":{
            "text\/html":[
              "<div>\n",
              "<style scoped>\n",
              "    .dataframe tbody tr th:only-of-type {\n",
              "        vertical-align: middle;\n",
              "    }\n",
              "\n",
              "    .dataframe tbody tr th {\n",
              "        vertical-align: top;\n",
              "    }\n",
              "\n",
              "    .dataframe thead th {\n",
              "        text-align: right;\n",
              "    }\n",
              "<\/style>\n",
              "<table border=\"1\" class=\"dataframe\">\n",
              "  <thead>\n",
              "    <tr style=\"text-align: right;\">\n",
              "      <th><\/th>\n",
              "      <th>Title<\/th>\n",
              "      <th>Name<\/th>\n",
              "    <\/tr>\n",
              "  <\/thead>\n",
              "  <tbody>\n",
              "    <tr>\n",
              "      <th>0<\/th>\n",
              "      <td>For Those About To Rock We Salute You<\/td>\n",
              "      <td>AC\/DC<\/td>\n",
              "    <\/tr>\n",
              "    <tr>\n",
              "      <th>1<\/th>\n",
              "      <td>Balls to the Wall<\/td>\n",
              "      <td>Accept<\/td>\n",
              "    <\/tr>\n",
              "    <tr>\n",
              "      <th>2<\/th>\n",
              "      <td>Restless and Wild<\/td>\n",
              "      <td>Accept<\/td>\n",
              "    <\/tr>\n",
              "    <tr>\n",
              "      <th>3<\/th>\n",
              "      <td>Let There Be Rock<\/td>\n",
              "      <td>AC\/DC<\/td>\n",
              "    <\/tr>\n",
              "    <tr>\n",
              "      <th>4<\/th>\n",
              "      <td>Big Ones<\/td>\n",
              "      <td>Aerosmith<\/td>\n",
              "    <\/tr>\n",
              "    <tr>\n",
              "      <th>...<\/th>\n",
              "      <td>...<\/td>\n",
              "      <td>...<\/td>\n",
              "    <\/tr>\n",
              "    <tr>\n",
              "      <th>342<\/th>\n",
              "      <td>Respighi:Pines of Rome<\/td>\n",
              "      <td>Eugene Ormandy<\/td>\n",
              "    <\/tr>\n",
              "    <tr>\n",
              "      <th>343<\/th>\n",
              "      <td>Schubert: The Late String Quartets &amp; String Qu...<\/td>\n",
              "      <td>Emerson String Quartet<\/td>\n",
              "    <\/tr>\n",
              "    <tr>\n",
              "      <th>344<\/th>\n",
              "      <td>Monteverdi: L'Orfeo<\/td>\n",
              "      <td>C. Monteverdi, Nigel Rogers - Chiaroscuro; Lon...<\/td>\n",
              "    <\/tr>\n",
              "    <tr>\n",
              "      <th>345<\/th>\n",
              "      <td>Mozart: Chamber Music<\/td>\n",
              "      <td>Nash Ensemble<\/td>\n",
              "    <\/tr>\n",
              "    <tr>\n",
              "      <th>346<\/th>\n",
              "      <td>Koyaanisqatsi (Soundtrack from the Motion Pict...<\/td>\n",
              "      <td>Philip Glass Ensemble<\/td>\n",
              "    <\/tr>\n",
              "  <\/tbody>\n",
              "<\/table>\n",
              "<p>347 rows × 2 columns<\/p>\n",
              "<\/div>"
            ]
          },
          "metadata":{
            
          },
          "output_type":"display_data"
        }
      ],
      "metadata":{
        
      }
    },
    {
      "cell_type":"code",
      "source":[
        "df3=pd.read_sql_query(\"SELECT Title,Name FROM Album INNER JOIN Artist on Album.ArtistId=Artist.ArtistId\",engine)"
      ],
      "execution_count":72,
      "outputs":[
        
      ],
      "metadata":{
        
      }
    },
    {
      "cell_type":"code",
      "source":[
        "df3"
      ],
      "execution_count":73,
      "outputs":[
        {
          "data":{
            "text\/html":[
              "<div>\n",
              "<style scoped>\n",
              "    .dataframe tbody tr th:only-of-type {\n",
              "        vertical-align: middle;\n",
              "    }\n",
              "\n",
              "    .dataframe tbody tr th {\n",
              "        vertical-align: top;\n",
              "    }\n",
              "\n",
              "    .dataframe thead th {\n",
              "        text-align: right;\n",
              "    }\n",
              "<\/style>\n",
              "<table border=\"1\" class=\"dataframe\">\n",
              "  <thead>\n",
              "    <tr style=\"text-align: right;\">\n",
              "      <th><\/th>\n",
              "      <th>Title<\/th>\n",
              "      <th>Name<\/th>\n",
              "    <\/tr>\n",
              "  <\/thead>\n",
              "  <tbody>\n",
              "    <tr>\n",
              "      <th>0<\/th>\n",
              "      <td>For Those About To Rock We Salute You<\/td>\n",
              "      <td>AC\/DC<\/td>\n",
              "    <\/tr>\n",
              "    <tr>\n",
              "      <th>1<\/th>\n",
              "      <td>Balls to the Wall<\/td>\n",
              "      <td>Accept<\/td>\n",
              "    <\/tr>\n",
              "    <tr>\n",
              "      <th>2<\/th>\n",
              "      <td>Restless and Wild<\/td>\n",
              "      <td>Accept<\/td>\n",
              "    <\/tr>\n",
              "    <tr>\n",
              "      <th>3<\/th>\n",
              "      <td>Let There Be Rock<\/td>\n",
              "      <td>AC\/DC<\/td>\n",
              "    <\/tr>\n",
              "    <tr>\n",
              "      <th>4<\/th>\n",
              "      <td>Big Ones<\/td>\n",
              "      <td>Aerosmith<\/td>\n",
              "    <\/tr>\n",
              "    <tr>\n",
              "      <th>...<\/th>\n",
              "      <td>...<\/td>\n",
              "      <td>...<\/td>\n",
              "    <\/tr>\n",
              "    <tr>\n",
              "      <th>342<\/th>\n",
              "      <td>Respighi:Pines of Rome<\/td>\n",
              "      <td>Eugene Ormandy<\/td>\n",
              "    <\/tr>\n",
              "    <tr>\n",
              "      <th>343<\/th>\n",
              "      <td>Schubert: The Late String Quartets &amp; String Qu...<\/td>\n",
              "      <td>Emerson String Quartet<\/td>\n",
              "    <\/tr>\n",
              "    <tr>\n",
              "      <th>344<\/th>\n",
              "      <td>Monteverdi: L'Orfeo<\/td>\n",
              "      <td>C. Monteverdi, Nigel Rogers - Chiaroscuro; Lon...<\/td>\n",
              "    <\/tr>\n",
              "    <tr>\n",
              "      <th>345<\/th>\n",
              "      <td>Mozart: Chamber Music<\/td>\n",
              "      <td>Nash Ensemble<\/td>\n",
              "    <\/tr>\n",
              "    <tr>\n",
              "      <th>346<\/th>\n",
              "      <td>Koyaanisqatsi (Soundtrack from the Motion Pict...<\/td>\n",
              "      <td>Philip Glass Ensemble<\/td>\n",
              "    <\/tr>\n",
              "  <\/tbody>\n",
              "<\/table>\n",
              "<p>347 rows × 2 columns<\/p>\n",
              "<\/div>"
            ]
          },
          "metadata":{
            
          },
          "output_type":"display_data"
        }
      ],
      "metadata":{
        
      }
    }
  ],
  "metadata":{
    
  },
  "nbformat":4,
  "nbformat_minor":0
}